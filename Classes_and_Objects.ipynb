{
  "nbformat": 4,
  "nbformat_minor": 0,
  "metadata": {
    "colab": {
      "name": "Classes and Objects.ipynb",
      "provenance": [],
      "authorship_tag": "ABX9TyNrXnlPjZndKkr4lPc8tTvl",
      "include_colab_link": true
    },
    "kernelspec": {
      "name": "python3",
      "display_name": "Python 3"
    },
    "language_info": {
      "name": "python"
    }
  },
  "cells": [
    {
      "cell_type": "markdown",
      "metadata": {
        "id": "view-in-github",
        "colab_type": "text"
      },
      "source": [
        "<a href=\"https://colab.research.google.com/github/RNkun/OOP-1-1/blob/main/Classes_and_Objects.ipynb\" target=\"_parent\"><img src=\"https://colab.research.google.com/assets/colab-badge.svg\" alt=\"Open In Colab\"/></a>"
      ]
    },
    {
      "cell_type": "markdown",
      "source": [
        "###Application 2 - Write a python program that discplays the fullname of student, student number, age, course, school. Create a class name OOP_1_1 and create Info() method to display the information of a student with fullname, stundet_no, age, course, school as attributes"
      ],
      "metadata": {
        "id": "t-bfFAyJ1pDZ"
      }
    },
    {
      "cell_type": "code",
      "source": [
        "class OOP_1_1: #demo for March 7, 2022\n",
        "  def __init__(self,fullname,student_no,age,course,school):\n",
        "    self.fullname = fullname\n",
        "    self.student_no = student_no\n",
        "    self.age = age\n",
        "    self.course = course\n",
        "    self.school = school\n",
        "\n",
        "  def Info(self):\n",
        "    print(\"My name is\", self.fullname+\".\",\"My student number is\", self.student_no+\".\", \"I am\", self.age,\"years old.\",\"Currently taking\", self.course,\"at\",self.school+\".\")\n",
        "\n",
        "student = OOP_1_1(str(input(\"Full Name: \")),str(int(input(\"Student Number: \"))),str(int(input(\"Age: \"))), str(input(\"Course: \")), str(input(\"School: \")))\n",
        "\n",
        "student.Info()"
      ],
      "metadata": {
        "colab": {
          "base_uri": "https://localhost:8080/"
        },
        "id": "JFZh4y1j2dnu",
        "outputId": "6a67e3f6-f65f-4fa7-9a65-123f86cf1242"
      },
      "execution_count": null,
      "outputs": [
        {
          "output_type": "stream",
          "name": "stdout",
          "text": [
            "Full Name: Ryan Nico Anogante\n",
            "Student Number: 202101875\n",
            "Age: 21\n",
            "Course: BSCpE\n",
            "School: Cavite State University - Don Severino del las Alas Campus\n",
            "My name is Ryan Nico Anogante. My student number is 202101875. I am 21 years old. Currently taking BSCpE at Cavite State University - Don Severino del las Alas Campus.\n"
          ]
        }
      ]
    },
    {
      "cell_type": "markdown",
      "source": [
        "### Application 3: Define an Area() method of the class Circle that calculates the circle's area. Define a Perimeter() method of the class which allows you to calculate the perimeter of the circle"
      ],
      "metadata": {
        "id": "bYvcenfL7T4T"
      }
    },
    {
      "cell_type": "code",
      "source": [
        "class Circle:\n",
        "  def __init__(self, radius1, radius2 ):\n",
        "    self.radius1 = radius1\n",
        "    self.radius2 = radius2\n",
        "  \n",
        "  def Area(self):\n",
        "    print(\"The area of the Circle is\", 3.14*self.radius1**2)\n",
        "\n",
        "  def Perimeter(self):\n",
        "    print(\"The perimeter or the circumference of the Circle is\", 2*3.14*self.radius2)\n",
        "\n",
        "Rad = Circle(int(input(\"Input Radius for the Area: \")), int(input(\"Input Radius for the Perimeter: \")))\n",
        "\n",
        "Rad.Area()\n",
        "Rad.Perimeter()"
      ],
      "metadata": {
        "colab": {
          "base_uri": "https://localhost:8080/"
        },
        "id": "8-fvgDpu7psu",
        "outputId": "354227d9-9ce0-4d5a-a946-7d521ebab318"
      },
      "execution_count": null,
      "outputs": [
        {
          "output_type": "stream",
          "name": "stdout",
          "text": [
            "Input Radius for the Area: 2\n",
            "Input Radius for the Perimeter: 2\n",
            "The area of the Circle is 12.56\n",
            "The perimeter or the circumference of the Circle is 12.56\n"
          ]
        }
      ]
    }
  ]
}