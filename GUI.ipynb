{
  "nbformat": 4,
  "nbformat_minor": 0,
  "metadata": {
    "colab": {
      "name": "GUI.ipynb",
      "provenance": [],
      "authorship_tag": "ABX9TyMAHZ89RCkQtFFD6zF+dq3w",
      "include_colab_link": true
    },
    "kernelspec": {
      "name": "python3",
      "display_name": "Python 3"
    },
    "language_info": {
      "name": "python"
    }
  },
  "cells": [
    {
      "cell_type": "markdown",
      "metadata": {
        "id": "view-in-github",
        "colab_type": "text"
      },
      "source": [
        "<a href=\"https://colab.research.google.com/github/RNkun/OOP-1-1/blob/main/GUI.ipynb\" target=\"_parent\"><img src=\"https://colab.research.google.com/assets/colab-badge.svg\" alt=\"Open In Colab\"/></a>"
      ]
    },
    {
      "cell_type": "markdown",
      "source": [
        "Student Grade in OOP Subject"
      ],
      "metadata": {
        "id": "ySfcU02bR2r2"
      }
    },
    {
      "cell_type": "code",
      "execution_count": 10,
      "metadata": {
        "colab": {
          "base_uri": "https://localhost:8080/"
        },
        "id": "0Mx_oq9kRz3_",
        "outputId": "7233ff89-9f7a-4370-dc5e-0a3eb5c535d9"
      },
      "outputs": [
        {
          "output_type": "stream",
          "name": "stdout",
          "text": [
            "Prelim: 85\n",
            "Midterm: 88\n",
            "Final: 98\n",
            "Sementral Grade: 90.33\n"
          ]
        }
      ],
      "source": [
        "#@title Students' Grade in OOP { display-mode: \"both\" }\n",
        "student_name = \"Ryan Nico Anogante\" #@param{type: \"string\"}\n",
        "prelim =  85#@param{type:'number'}\n",
        "midterm =  88#@param{type:'number'}\n",
        "final =  98#@param{type:'number'}\n",
        "semestral_grade = round((prelim + midterm + final)/3,2)\n",
        "\n",
        "print(\"Prelim:\", str(prelim))\n",
        "print(\"Midterm:\", str(midterm))\n",
        "print(\"Final:\", str(final))\n",
        "print(\"Sementral Grade:\", semestral_grade)\n",
        "\n",
        "Gender = \"Male\" #@param[\"Male\", \"Female\"]\n",
        "Birthdate = '2000-11-21' #@param{type: \"date\"}\n"
      ]
    }
  ]
}