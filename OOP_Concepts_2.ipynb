{
  "nbformat": 4,
  "nbformat_minor": 0,
  "metadata": {
    "colab": {
      "name": "OOP Concepts 2.ipynb",
      "provenance": [],
      "authorship_tag": "ABX9TyPVCGfW3WS0q8aec6B59jtA",
      "include_colab_link": true
    },
    "kernelspec": {
      "name": "python3",
      "display_name": "Python 3"
    },
    "language_info": {
      "name": "python"
    }
  },
  "cells": [
    {
      "cell_type": "markdown",
      "metadata": {
        "id": "view-in-github",
        "colab_type": "text"
      },
      "source": [
        "<a href=\"https://colab.research.google.com/github/RNkun/OOP-1-1/blob/main/OOP_Concepts_2.ipynb\" target=\"_parent\"><img src=\"https://colab.research.google.com/assets/colab-badge.svg\" alt=\"Open In Colab\"/></a>"
      ]
    },
    {
      "cell_type": "markdown",
      "source": [
        "Classes with Multiple Objects"
      ],
      "metadata": {
        "id": "mfBV_sNeMV7h"
      }
    },
    {
      "cell_type": "code",
      "source": [
        "class Birds:\n",
        "  def __init__(self, brd_name):\n",
        "    self.brd_name = brd_name\n",
        "\n",
        "  def flying_birds(self):\n",
        "    print(f\"{self.brd_name} flies above the sky\")\n",
        "\n",
        "  def nonflying_birds(self):\n",
        "    print(f\"{self.brd_name} is the national bird of Australia\")\n",
        "\n",
        "vulture = Birds(\"Griffon Vulture\")\n",
        "crane = Birds(\"Common Crane\")\n",
        "emu = Birds(\"Emu\")\n",
        "\n",
        "vulture.flying_birds()\n",
        "crane.flying_birds()\n",
        "emu.nonflying_birds()\n"
      ],
      "metadata": {
        "colab": {
          "base_uri": "https://localhost:8080/"
        },
        "id": "j6VjaxJYMaf-",
        "outputId": "4a55ef87-df23-4599-893a-db13458c5e64"
      },
      "execution_count": 24,
      "outputs": [
        {
          "output_type": "stream",
          "name": "stdout",
          "text": [
            "Griffon Vulture flies above the sky\n",
            "Common Crane flies above the sky\n",
            "Emu is the national bird of Australia\n"
          ]
        }
      ]
    },
    {
      "cell_type": "markdown",
      "source": [
        "Encapsulation (mangling with double underscore) "
      ],
      "metadata": {
        "id": "uqQjLKQwRAVl"
      }
    },
    {
      "cell_type": "code",
      "source": [
        "class foo:\n",
        "  def __init__(self, a, b):\n",
        "    self.a = a\n",
        "    self.b = b\n",
        "\n",
        "  def add(self):\n",
        "    return self.a + self.b \n",
        "\n",
        "object_foo = foo(int(input(\"First Number \")),int(input(\"Second Number \")))\n",
        "object_foo.add()\n",
        "\n"
      ],
      "metadata": {
        "colab": {
          "base_uri": "https://localhost:8080/"
        },
        "id": "ABf__sQ7O4bS",
        "outputId": "26c77671-f4f7-4119-cc15-22a356f84cba"
      },
      "execution_count": 14,
      "outputs": [
        {
          "name": "stdout",
          "output_type": "stream",
          "text": [
            "First Number4\n",
            "Second Number5\n"
          ]
        },
        {
          "output_type": "execute_result",
          "data": {
            "text/plain": [
              "9"
            ]
          },
          "metadata": {},
          "execution_count": 14
        }
      ]
    },
    {
      "cell_type": "markdown",
      "source": [
        "Increment"
      ],
      "metadata": {
        "id": "0c9PqDR2RyIl"
      }
    },
    {
      "cell_type": "code",
      "source": [
        "class Counter:\n",
        "  def __init__(self):\n",
        "    self.__current = 0\n",
        "  def increment(self):\n",
        "    self.__current += 1\n",
        "  def value(self):\n",
        "    return self.__current \n",
        "  def reset(self):\n",
        "    self.__current = 0\n",
        "\n",
        "number = Counter()\n",
        "number.increment()\n",
        "number.increment()\n",
        "number.increment()\n",
        "number.increment()\n",
        "\n",
        "number.__current  = 1 \n",
        "print(number.value())"
      ],
      "metadata": {
        "colab": {
          "base_uri": "https://localhost:8080/"
        },
        "id": "ytNoWlhBSZ4K",
        "outputId": "62a72559-4a89-4773-da2f-83fbd384f7a2"
      },
      "execution_count": 28,
      "outputs": [
        {
          "output_type": "stream",
          "name": "stdout",
          "text": [
            "4\n"
          ]
        }
      ]
    },
    {
      "cell_type": "markdown",
      "source": [
        "Inheritance"
      ],
      "metadata": {
        "id": "XrDTjyJmUyqb"
      }
    },
    {
      "cell_type": "code",
      "source": [
        "class Person:\n",
        "  def __init__(self, fn, surname):\n",
        "    self.fn = fn\n",
        "    self.surname = surname\n",
        "\n",
        "  def fullname(self):\n",
        "    print(self.fn, self.surname)\n",
        "\n",
        "person = Person(str(input(\"Your First Name: \")),str(input(\"Your Surname: \")))\n",
        "person.fullname()\n",
        "\n",
        "class Teacher(Person):\n",
        "  pass\n",
        "\n",
        "person2 = Teacher(str(input(\"Teacher's First Name: \")),str(input(\"Teacher's Surname: \")))\n",
        "person2.fullname()\n",
        "\n",
        "class Student(Person):\n",
        "  pass\n",
        "\n",
        "person3 = Student(str(input(\"Student's First Name: \")),str(input(\"Student's Surname: \")))\n",
        "person3.fullname()"
      ],
      "metadata": {
        "colab": {
          "base_uri": "https://localhost:8080/"
        },
        "id": "5nXefxFqU1iq",
        "outputId": "78bbe18a-0caf-4599-c1d3-575d8a0bc046"
      },
      "execution_count": 32,
      "outputs": [
        {
          "output_type": "stream",
          "name": "stdout",
          "text": [
            "Your First Name: Ryan Nico\n",
            "Your Surname: Anogante\n",
            "Ryan Nico Anogante\n",
            "Teacher's First Name: Mam Maria Rizette\n",
            "Teacher's Surname: Sayo\n",
            "Mam Maria Rizette Sayo\n",
            "Student's First Name: Lance \n",
            "Student's Surname: Alcala\n",
            "Lance  Alcala\n"
          ]
        }
      ]
    },
    {
      "cell_type": "markdown",
      "source": [
        "Polymorphism"
      ],
      "metadata": {
        "id": "ku_zKGbVXfTh"
      }
    },
    {
      "cell_type": "code",
      "source": [
        "class RegularPolygon:\n",
        "  def __init__(self,side):\n",
        "    self.side = side\n",
        "class Square(RegularPolygon):\n",
        "  def area(self):\n",
        "    return self.side * self.side \n",
        "class EquilateralTriangle(RegularPolygon):\n",
        "  def area(self):\n",
        "     return self.side * self.side * 0.433\n",
        "\n",
        "obj1 = Square(int(input(\"Input Number for Square: \")))\n",
        "print(obj1.area())\n",
        "\n",
        "obj2 = EquilateralTriangle(int(input(\"Input Number for Equilateral Triangle: \")))\n",
        "print(obj2.area())"
      ],
      "metadata": {
        "colab": {
          "base_uri": "https://localhost:8080/"
        },
        "id": "r47rgrNOXhyV",
        "outputId": "d335a927-8bc4-412b-b734-f85bab5c9873"
      },
      "execution_count": 34,
      "outputs": [
        {
          "output_type": "stream",
          "name": "stdout",
          "text": [
            "Input Number for Square: 4\n",
            "16\n",
            "Input Number for Equilateral Triangle: 3\n",
            "3.897\n"
          ]
        }
      ]
    }
  ]
}