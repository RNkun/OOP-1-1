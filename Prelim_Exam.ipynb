{
  "nbformat": 4,
  "nbformat_minor": 0,
  "metadata": {
    "colab": {
      "name": "Prelim Exam.ipynb",
      "provenance": [],
      "authorship_tag": "ABX9TyP8pUd5aGJtC0VDY9u8sB0x",
      "include_colab_link": true
    },
    "kernelspec": {
      "name": "python3",
      "display_name": "Python 3"
    },
    "language_info": {
      "name": "python"
    }
  },
  "cells": [
    {
      "cell_type": "markdown",
      "metadata": {
        "id": "view-in-github",
        "colab_type": "text"
      },
      "source": [
        "<a href=\"https://colab.research.google.com/github/RNkun/OOP-1-1/blob/main/Prelim_Exam.ipynb\" target=\"_parent\"><img src=\"https://colab.research.google.com/assets/colab-badge.svg\" alt=\"Open In Colab\"/></a>"
      ]
    },
    {
      "cell_type": "markdown",
      "source": [
        "#Problem 2 Write a Python to display your full name, student number, age, and course"
      ],
      "metadata": {
        "id": "TgBmlwaCYoTF"
      }
    },
    {
      "cell_type": "code",
      "source": [
        "class Student:\n",
        "  def __init__(self, name, student_no, age, school, course):\n",
        "    self.name = name\n",
        "    self.student_no = student_no\n",
        "    self.age = age\n",
        "    self.school = school\n",
        "    self.course = course\n",
        "\n",
        "  def Info(self):\n",
        "    print(\"My name is\", self.name + \".\")\n",
        "    print(\"My student number is\", self.student_no)\n",
        "    print(\"I am\", self.age, \"years old\")\n",
        "    print(\"I am studying at\", self.school + \".\", \"Currently, I am taking\", self.course)\n",
        "\n",
        "person = Student(str(input(\"Full Name: \")), str(input(\"Student Number: \")), str(input(\"Age: \")), str(input(\"SChool: \")), str(input(\"Course: \")))\n",
        "\n",
        "person.Info()"
      ],
      "metadata": {
        "colab": {
          "base_uri": "https://localhost:8080/"
        },
        "id": "jbfdTZ9DYzWx",
        "outputId": "d68055a7-1f35-451f-f2ff-6f1ce2bdec20"
      },
      "execution_count": 1,
      "outputs": [
        {
          "output_type": "stream",
          "name": "stdout",
          "text": [
            "Full Name: Ryan Nico Anogante\n",
            "Student Number: 202101875\n",
            "Age: 21\n",
            "SChool: Cavite State University\n",
            "Course: Bachelor of Science in Computer Engineering\n",
            "My name is Ryan Nico Anogante.\n",
            "My student number is 202101875\n",
            "I am 21 years old\n",
            "I am studying at Cavite State University. Currently, I am taking Bachelor of Science in Computer Engineering\n"
          ]
        }
      ]
    }
  ]
}