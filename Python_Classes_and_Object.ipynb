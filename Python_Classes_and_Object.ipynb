{
  "nbformat": 4,
  "nbformat_minor": 0,
  "metadata": {
    "colab": {
      "name": "Python Classes and Object.ipynb",
      "provenance": [],
      "authorship_tag": "ABX9TyP+ctNy8f4SgK+pasIeb1N9",
      "include_colab_link": true
    },
    "kernelspec": {
      "name": "python3",
      "display_name": "Python 3"
    },
    "language_info": {
      "name": "python"
    }
  },
  "cells": [
    {
      "cell_type": "markdown",
      "metadata": {
        "id": "view-in-github",
        "colab_type": "text"
      },
      "source": [
        "<a href=\"https://colab.research.google.com/github/RNkun/OOP-1-1/blob/main/Python_Classes_and_Object.ipynb\" target=\"_parent\"><img src=\"https://colab.research.google.com/assets/colab-badge.svg\" alt=\"Open In Colab\"/></a>"
      ]
    },
    {
      "cell_type": "markdown",
      "source": [
        "#Class "
      ],
      "metadata": {
        "id": "IhrmJR7qywEq"
      }
    },
    {
      "cell_type": "code",
      "source": [
        "class MyClass:\n",
        "  pass    #create a class without variable and methods "
      ],
      "metadata": {
        "id": "gJhECryay_AU"
      },
      "execution_count": 1,
      "outputs": []
    },
    {
      "cell_type": "code",
      "source": [
        "class MyClass:\n",
        "  def __init__(self,name,age):\n",
        "    self.name = name      #create a class with attributes\n",
        "    self.age = age \n",
        "\n",
        "  def display(self):\n",
        "    print(self.name, self.age)\n",
        "\n",
        "person = MyClass(\"Rn\", 21)  #create an object name\n",
        "    \n",
        "person.display()"
      ],
      "metadata": {
        "colab": {
          "base_uri": "https://localhost:8080/"
        },
        "id": "-wE6AEGGzv7V",
        "outputId": "b0627033-3909-42d3-e3b9-21360780ee0d"
      },
      "execution_count": 23,
      "outputs": [
        {
          "output_type": "stream",
          "name": "stdout",
          "text": [
            "Rn 21\n"
          ]
        }
      ]
    },
    {
      "cell_type": "code",
      "source": [
        "#Application 1 - Write a Python Program that computes for an area of rectangle A =lxw\n",
        "\n",
        "class Rectangle:\n",
        "\n",
        "  def __init__(self,l,w):\n",
        "    self.l = l\n",
        "    self.w = w \n",
        "\n",
        "  def Area(self):\n",
        "    print(self.l*self.w)\n",
        "\n",
        "rect = Rectangle(7,3)\n",
        "rect.Area()"
      ],
      "metadata": {
        "colab": {
          "base_uri": "https://localhost:8080/"
        },
        "id": "zX0g1jk23BFd",
        "outputId": "3fcb5617-b372-42ea-aa27-dabf1eb14d9b"
      },
      "execution_count": 25,
      "outputs": [
        {
          "output_type": "stream",
          "name": "stdout",
          "text": [
            "21\n"
          ]
        }
      ]
    }
  ]
}